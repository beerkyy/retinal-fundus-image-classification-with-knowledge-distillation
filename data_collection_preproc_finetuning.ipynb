{
 "cells": [
  {
   "cell_type": "code",
   "execution_count": 3,
   "metadata": {},
   "outputs": [],
   "source": [
    "import pandas as pd\n",
    "import os\n",
    "import shutil"
   ]
  },
  {
   "cell_type": "code",
   "execution_count": 2,
   "metadata": {},
   "outputs": [
    {
     "name": "stdout",
     "output_type": "stream",
     "text": [
      "Train CSV:\n",
      "        id_code  diagnosis\n",
      "0  1ae8c165fd53          2\n",
      "1  1b329a127307          1\n",
      "2  1b32e1d775ea          4\n",
      "3  1b3647865779          0\n",
      "4  1b398c0494d1          0\n",
      "\n",
      "Validation CSV:\n",
      "        id_code  diagnosis\n",
      "0  000c1434d8d7          2\n",
      "1  001639a390f0          4\n",
      "2  0024cdab0c1e          1\n",
      "3  002c21358ce6          0\n",
      "4  005b95c28852          0\n",
      "\n",
      "Test CSV:\n",
      "        id_code  diagnosis\n",
      "0  e4dcca36ceb4          0\n",
      "1  e4e343eaae2a          2\n",
      "2  e4f12411fd85          4\n",
      "3  e50b0174690d          0\n",
      "4  e5197d77ec68          0\n"
     ]
    }
   ],
   "source": [
    "#Loading the dataset IDs and labels\n",
    "train_df = pd.read_csv('data/APTOS/train.csv')\n",
    "val_df = pd.read_csv('data/APTOS/valid.csv')\n",
    "test_df = pd.read_csv('data/APTOS/test.csv')\n",
    "\n",
    "# Show\n",
    "print(\"Train CSV:\")\n",
    "print(train_df.head())\n",
    "print(\"\\nValidation CSV:\")\n",
    "print(val_df.head())\n",
    "print(\"\\nTest CSV:\")\n",
    "print(test_df.head())"
   ]
  },
  {
   "cell_type": "code",
   "execution_count": 3,
   "metadata": {},
   "outputs": [
    {
     "name": "stdout",
     "output_type": "stream",
     "text": [
      "diagnosis\n",
      "0    1434\n",
      "2     808\n",
      "1     300\n",
      "4     234\n",
      "3     154\n",
      "Name: count, dtype: int64\n",
      "diagnosis\n",
      "0    172\n",
      "2    104\n",
      "1     40\n",
      "4     28\n",
      "3     22\n",
      "Name: count, dtype: int64\n",
      "diagnosis\n",
      "0    199\n",
      "2     87\n",
      "4     33\n",
      "1     30\n",
      "3     17\n",
      "Name: count, dtype: int64\n"
     ]
    }
   ],
   "source": [
    "print(train_df['diagnosis'].value_counts())\n",
    "print(val_df['diagnosis'].value_counts())\n",
    "print(test_df['diagnosis'].value_counts())"
   ]
  },
  {
   "cell_type": "code",
   "execution_count": 4,
   "metadata": {},
   "outputs": [],
   "source": [
    "# Consolidating different grades of diabetic retinopathy\n",
    "train_df['diagnosis'] = train_df['diagnosis'].replace({0: 'Normal', 1: 'DR', 2: 'DR', 3: 'DR', 4: 'DR'})\n",
    "val_df['diagnosis'] = val_df['diagnosis'].replace({0: 'Normal', 1: 'DR', 2: 'DR', 3: 'DR', 4: 'DR'})\n",
    "test_df['diagnosis'] = test_df['diagnosis'].replace({0: 'Normal', 1: 'DR', 2: 'DR', 3: 'DR', 4: 'DR'})"
   ]
  },
  {
   "cell_type": "code",
   "execution_count": 5,
   "metadata": {},
   "outputs": [
    {
     "name": "stdout",
     "output_type": "stream",
     "text": [
      "diagnosis\n",
      "DR        1496\n",
      "Normal    1434\n",
      "Name: count, dtype: int64\n",
      "diagnosis\n",
      "DR        194\n",
      "Normal    172\n",
      "Name: count, dtype: int64\n",
      "diagnosis\n",
      "Normal    199\n",
      "DR        167\n",
      "Name: count, dtype: int64\n"
     ]
    }
   ],
   "source": [
    "print(train_df['diagnosis'].value_counts())\n",
    "print(val_df['diagnosis'].value_counts())\n",
    "print(test_df['diagnosis'].value_counts())"
   ]
  },
  {
   "cell_type": "code",
   "execution_count": 6,
   "metadata": {},
   "outputs": [],
   "source": [
    "train_norm_df = train_df[train_df['diagnosis'] == 'Normal']\n",
    "train_dr_df = train_df[train_df['diagnosis'] == 'DR']\n",
    "val_norm_df = val_df[val_df['diagnosis'] == 'Normal']\n",
    "val_dr_df = val_df[val_df['diagnosis'] == 'DR']\n",
    "test_norm_df = test_df[test_df['diagnosis'] == 'Normal']\n",
    "test_dr_df = test_df[test_df['diagnosis'] == 'DR']"
   ]
  },
  {
   "cell_type": "code",
   "execution_count": 8,
   "metadata": {},
   "outputs": [],
   "source": [
    "# Orgamize into file structure required by RETFound\n",
    "os.makedirs('./data/train/Normal/', exist_ok=True)\n",
    "os.makedirs('./data/val/Normal/', exist_ok=True)\n",
    "os.makedirs('./data/test/Normal/', exist_ok=True)\n",
    "os.makedirs('./data/train/DR/', exist_ok=True)\n",
    "os.makedirs('./data/val/DR/', exist_ok=True)\n",
    "os.makedirs('./data/test/DR/', exist_ok=True)\n",
    "\n",
    "for i in train_norm_df['id_code']:\n",
    "    shutil.copy(f'./data/APTOS/train_images/{i}.png', f'./data/train/Normal/{i}.png')\n",
    "    \n",
    "for i in train_dr_df['id_code']:\n",
    "    shutil.copy(f'./data/APTOS/train_images/{i}.png', f'./data/train/DR/{i}.png')\n",
    "\n",
    "for i in val_norm_df['id_code']:\n",
    "    shutil.copy(f'./data/APTOS/val_images/{i}.png', f'./data/val/Normal/{i}.png')\n",
    "    \n",
    "for i in val_dr_df['id_code']:\n",
    "    shutil.copy(f'./data/APTOS/val_images/{i}.png', f'./data/val/DR/{i}.png')\n",
    "\n",
    "for i in test_norm_df['id_code']:\n",
    "    shutil.copy(f'./data/APTOS/test_images/{i}.png', f'./data/test/Normal/{i}.png')\n",
    "    \n",
    "for i in test_dr_df['id_code']:\n",
    "    shutil.copy(f'./data/APTOS/test_images/{i}.png', f'./data/test/DR/{i}.png')"
   ]
  },
  {
   "cell_type": "code",
   "execution_count": 9,
   "metadata": {},
   "outputs": [
    {
     "data": {
      "text/html": [
       "<div>\n",
       "<style scoped>\n",
       "    .dataframe tbody tr th:only-of-type {\n",
       "        vertical-align: middle;\n",
       "    }\n",
       "\n",
       "    .dataframe tbody tr th {\n",
       "        vertical-align: top;\n",
       "    }\n",
       "\n",
       "    .dataframe thead th {\n",
       "        text-align: right;\n",
       "    }\n",
       "</style>\n",
       "<table border=\"1\" class=\"dataframe\">\n",
       "  <thead>\n",
       "    <tr style=\"text-align: right;\">\n",
       "      <th></th>\n",
       "      <th>imageID</th>\n",
       "      <th>binaryLabels</th>\n",
       "    </tr>\n",
       "  </thead>\n",
       "  <tbody>\n",
       "    <tr>\n",
       "      <th>0</th>\n",
       "      <td>image_0.jpg</td>\n",
       "      <td>0</td>\n",
       "    </tr>\n",
       "    <tr>\n",
       "      <th>1</th>\n",
       "      <td>image_1.jpg</td>\n",
       "      <td>0</td>\n",
       "    </tr>\n",
       "    <tr>\n",
       "      <th>2</th>\n",
       "      <td>image_3.jpg</td>\n",
       "      <td>0</td>\n",
       "    </tr>\n",
       "    <tr>\n",
       "      <th>3</th>\n",
       "      <td>image_4.jpg</td>\n",
       "      <td>0</td>\n",
       "    </tr>\n",
       "    <tr>\n",
       "      <th>4</th>\n",
       "      <td>image_5.jpg</td>\n",
       "      <td>0</td>\n",
       "    </tr>\n",
       "  </tbody>\n",
       "</table>\n",
       "</div>"
      ],
      "text/plain": [
       "       imageID  binaryLabels\n",
       "0  image_0.jpg             0\n",
       "1  image_1.jpg             0\n",
       "2  image_3.jpg             0\n",
       "3  image_4.jpg             0\n",
       "4  image_5.jpg             0"
      ]
     },
     "execution_count": 9,
     "metadata": {},
     "output_type": "execute_result"
    }
   ],
   "source": [
    "g_1020 = pd.read_csv('data/G1020/G1020.csv')\n",
    "g_1020.head()\n"
   ]
  },
  {
   "cell_type": "code",
   "execution_count": 10,
   "metadata": {},
   "outputs": [
    {
     "data": {
      "text/plain": [
       "binaryLabels\n",
       "0    724\n",
       "1    296\n",
       "Name: count, dtype: int64"
      ]
     },
     "execution_count": 10,
     "metadata": {},
     "output_type": "execute_result"
    }
   ],
   "source": [
    "g_1020['binaryLabels'].value_counts()"
   ]
  },
  {
   "cell_type": "code",
   "execution_count": 11,
   "metadata": {},
   "outputs": [],
   "source": [
    "from sklearn.model_selection import train_test_split\n",
    "train_df, test_df = train_test_split(g_1020, test_size=0.1, stratify=g_1020['binaryLabels'], random_state=42)\n",
    "train_df, val_df = train_test_split(train_df, test_size=0.25, stratify=train_df['binaryLabels'], random_state=42)\n"
   ]
  },
  {
   "cell_type": "code",
   "execution_count": 12,
   "metadata": {},
   "outputs": [],
   "source": [
    "train_df['binaryLabels'] = train_df['binaryLabels'].replace({0: 'Normal', 1: 'Glaucoma'})\n",
    "val_df['binaryLabels'] = val_df['binaryLabels'].replace({0: 'Normal', 1: 'Glaucoma'})\n",
    "test_df['binaryLabels'] = test_df['binaryLabels'].replace({0: 'Normal', 1: 'Glaucoma'})\n",
    "\n",
    "train_norm_df = train_df[train_df['binaryLabels'] == 'Normal']\n",
    "train_glaucoma_df = train_df[train_df['binaryLabels'] == 'Glaucoma']\n",
    "val_norm_df = val_df[val_df['binaryLabels'] == 'Normal']\n",
    "val_glaucoma_df = val_df[val_df['binaryLabels'] == 'Glaucoma']\n",
    "test_norm_df = test_df[test_df['binaryLabels'] == 'Normal']\n",
    "test_glaucoma_df = test_df[test_df['binaryLabels'] == 'Glaucoma']\n",
    "\n"
   ]
  },
  {
   "cell_type": "code",
   "execution_count": 18,
   "metadata": {},
   "outputs": [],
   "source": [
    "# Create directories if they don't exist\n",
    "os.makedirs('./data/train/Glaucoma/', exist_ok=True)\n",
    "os.makedirs('./data/val/Glaucoma/', exist_ok=True)\n",
    "os.makedirs('./data/test/Glaucoma/', exist_ok=True)\n",
    "\n",
    "for i in train_norm_df['imageID']:\n",
    "    shutil.copy(f'./data/G1020/Images_Square/{i}', f'./data/train/Normal/{i}')\n",
    "\n",
    "for i in train_glaucoma_df['imageID']:\n",
    "    shutil.copy(f'./data/G1020/Images_Square/{i}', f'./data/train/Glaucoma/{i}')\n",
    "\n",
    "for i in val_norm_df['imageID']:\n",
    "    shutil.copy(f'./data/G1020/Images_Square/{i}', f'./data/val/Normal/{i}')\n",
    "    \n",
    "for i in val_glaucoma_df['imageID']:\n",
    "    shutil.copy(f'./data/G1020/Images_Square/{i}', f'./data/val/Glaucoma/{i}')\n",
    "\n",
    "for i in test_norm_df['imageID']:\n",
    "    shutil.copy(f'./data/G1020/Images_Square/{i}', f'./data/test/Normal/{i}')\n",
    "\n",
    "for i in val_norm_df['imageID']:\n",
    "    shutil.copy(f'./data/G1020/Images_Square/{i}', f'./data/val/Normal/{i}')\n",
    "    \n",
    "for i in val_glaucoma_df['imageID']:\n",
    "    shutil.copy(f'./data/G1020/Images_Square/{i}', f'./data/val/Glaucoma/{i}')\n",
    "\n",
    "for i in test_norm_df['imageID']:\n",
    "    shutil.copy(f'./data/G1020/Images_Square/{i}', f'./data/test/Normal/{i}')\n",
    "    \n",
    "for i in test_glaucoma_df['imageID']:\n",
    "    shutil.copy(f'./data/G1020/Images_Square/{i}', f'./data/test/Glaucoma/{i}')"
   ]
  },
  {
   "cell_type": "code",
   "execution_count": 5,
   "metadata": {},
   "outputs": [],
   "source": [
    "from sklearn.model_selection import train_test_split\n",
    "\n",
    "def images_splitting(source_dir, train_dir, val_dir, test_dir):\n",
    "    images = [f for f in os.listdir(source_dir) if f.endswith(('.jpg', '.png', '.jpeg'))]\n",
    "    train, test = train_test_split(images, test_size=0.1, random_state=42)\n",
    "    train, val = train_test_split(train, test_size=0.25, random_state=42)\n",
    "\n",
    "    for image in train:\n",
    "        shutil.copy(os.path.join(source_dir, image), os.path.join(train_dir, image))\n",
    "    for image in val:\n",
    "        shutil.copy(os.path.join(source_dir, image), os.path.join(val_dir, image))\n",
    "    for image in test:\n",
    "        shutil.copy(os.path.join(source_dir, image), os.path.join(test_dir, image))\n",
    "\n"
   ]
  },
  {
   "cell_type": "code",
   "execution_count": 6,
   "metadata": {},
   "outputs": [],
   "source": [
    "source_dir = 'data/glaucoma'\n",
    "train_dir = 'data/train/Glaucoma'\n",
    "val_dir = 'data/val/Glaucoma'\n",
    "test_dir = 'data/test/Glaucoma'\n",
    "\n",
    "images_splitting(source_dir, train_dir, val_dir, test_dir)"
   ]
  },
  {
   "cell_type": "code",
   "execution_count": 7,
   "metadata": {},
   "outputs": [],
   "source": [
    "source_dir = 'data/cataract'\n",
    "train_dir = 'data/train/Cataract'\n",
    "val_dir = 'data/val/Cataract'\n",
    "test_dir = 'data/test/Cataract'\n",
    "\n",
    "# Create directories if they don't exist\n",
    "os.makedirs(train_dir, exist_ok=True)\n",
    "os.makedirs(val_dir, exist_ok=True)\n",
    "os.makedirs(test_dir, exist_ok=True)\n",
    "\n",
    "images_splitting(source_dir, train_dir, val_dir, test_dir)\n"
   ]
  },
  {
   "cell_type": "code",
   "execution_count": 8,
   "metadata": {},
   "outputs": [
    {
     "name": "stderr",
     "output_type": "stream",
     "text": [
      "d:\\Columbia Notes\\Spring 2025\\Deep Learning on the Edge\\Final_Project\\venv\\Lib\\site-packages\\tqdm\\auto.py:21: TqdmWarning: IProgress not found. Please update jupyter and ipywidgets. See https://ipywidgets.readthedocs.io/en/stable/user_install.html\n",
      "  from .autonotebook import tqdm as notebook_tqdm\n"
     ]
    },
    {
     "name": "stdout",
     "output_type": "stream",
     "text": [
      "['convit_base', 'convit_small', 'convit_tiny', 'crossvit_9_240', 'crossvit_9_dagger_240', 'crossvit_15_240', 'crossvit_15_dagger_240', 'crossvit_15_dagger_408', 'crossvit_18_240', 'crossvit_18_dagger_240', 'crossvit_18_dagger_408', 'crossvit_base_240', 'crossvit_small_240', 'crossvit_tiny_240', 'davit_base', 'davit_base_fl', 'davit_giant', 'davit_huge', 'davit_huge_fl', 'davit_large', 'davit_small', 'davit_tiny', 'efficientvit_b0', 'efficientvit_b1', 'efficientvit_b2', 'efficientvit_b3', 'efficientvit_l1', 'efficientvit_l2', 'efficientvit_l3', 'efficientvit_m0', 'efficientvit_m1', 'efficientvit_m2', 'efficientvit_m3', 'efficientvit_m4', 'efficientvit_m5', 'fastvit_ma36', 'fastvit_mci0', 'fastvit_mci1', 'fastvit_mci2', 'fastvit_s12', 'fastvit_sa12', 'fastvit_sa24', 'fastvit_sa36', 'fastvit_t8', 'fastvit_t12', 'flexivit_base', 'flexivit_large', 'flexivit_small', 'gcvit_base', 'gcvit_small', 'gcvit_tiny', 'gcvit_xtiny', 'gcvit_xxtiny', 'levit_128', 'levit_128s', 'levit_192', 'levit_256', 'levit_256d', 'levit_384', 'levit_384_s8', 'levit_512', 'levit_512_s8', 'levit_512d', 'levit_conv_128', 'levit_conv_128s', 'levit_conv_192', 'levit_conv_256', 'levit_conv_256d', 'levit_conv_384', 'levit_conv_384_s8', 'levit_conv_512', 'levit_conv_512_s8', 'levit_conv_512d', 'maxvit_base_tf_224', 'maxvit_base_tf_384', 'maxvit_base_tf_512', 'maxvit_large_tf_224', 'maxvit_large_tf_384', 'maxvit_large_tf_512', 'maxvit_nano_rw_256', 'maxvit_pico_rw_256', 'maxvit_rmlp_base_rw_224', 'maxvit_rmlp_base_rw_384', 'maxvit_rmlp_nano_rw_256', 'maxvit_rmlp_pico_rw_256', 'maxvit_rmlp_small_rw_224', 'maxvit_rmlp_small_rw_256', 'maxvit_rmlp_tiny_rw_256', 'maxvit_small_tf_224', 'maxvit_small_tf_384', 'maxvit_small_tf_512', 'maxvit_tiny_pm_256', 'maxvit_tiny_rw_224', 'maxvit_tiny_rw_256', 'maxvit_tiny_tf_224', 'maxvit_tiny_tf_384', 'maxvit_tiny_tf_512', 'maxvit_xlarge_tf_224', 'maxvit_xlarge_tf_384', 'maxvit_xlarge_tf_512', 'maxxvit_rmlp_nano_rw_256', 'maxxvit_rmlp_small_rw_256', 'maxxvit_rmlp_tiny_rw_256', 'maxxvitv2_nano_rw_256', 'maxxvitv2_rmlp_base_rw_224', 'maxxvitv2_rmlp_base_rw_384', 'maxxvitv2_rmlp_large_rw_224', 'mobilevit_s', 'mobilevit_xs', 'mobilevit_xxs', 'mobilevitv2_050', 'mobilevitv2_075', 'mobilevitv2_100', 'mobilevitv2_125', 'mobilevitv2_150', 'mobilevitv2_175', 'mobilevitv2_200', 'mvitv2_base', 'mvitv2_base_cls', 'mvitv2_huge_cls', 'mvitv2_large', 'mvitv2_large_cls', 'mvitv2_small', 'mvitv2_small_cls', 'mvitv2_tiny', 'nextvit_base', 'nextvit_large', 'nextvit_small', 'repvit_m0_9', 'repvit_m1', 'repvit_m1_0', 'repvit_m1_1', 'repvit_m1_5', 'repvit_m2', 'repvit_m2_3', 'repvit_m3', 'samvit_base_patch16', 'samvit_base_patch16_224', 'samvit_huge_patch16', 'samvit_large_patch16', 'test_vit', 'test_vit2', 'test_vit3', 'test_vit4', 'tiny_vit_5m_224', 'tiny_vit_11m_224', 'tiny_vit_21m_224', 'tiny_vit_21m_384', 'tiny_vit_21m_512', 'vit_base_mci_224', 'vit_base_patch8_224', 'vit_base_patch14_dinov2', 'vit_base_patch14_reg4_dinov2', 'vit_base_patch16_18x2_224', 'vit_base_patch16_224', 'vit_base_patch16_224_miil', 'vit_base_patch16_384', 'vit_base_patch16_clip_224', 'vit_base_patch16_clip_384', 'vit_base_patch16_clip_quickgelu_224', 'vit_base_patch16_gap_224', 'vit_base_patch16_plus_240', 'vit_base_patch16_plus_clip_240', 'vit_base_patch16_reg4_gap_256', 'vit_base_patch16_rope_reg1_gap_256', 'vit_base_patch16_rpn_224', 'vit_base_patch16_siglip_224', 'vit_base_patch16_siglip_256', 'vit_base_patch16_siglip_384', 'vit_base_patch16_siglip_512', 'vit_base_patch16_siglip_gap_224', 'vit_base_patch16_siglip_gap_256', 'vit_base_patch16_siglip_gap_384', 'vit_base_patch16_siglip_gap_512', 'vit_base_patch16_xp_224', 'vit_base_patch32_224', 'vit_base_patch32_384', 'vit_base_patch32_clip_224', 'vit_base_patch32_clip_256', 'vit_base_patch32_clip_384', 'vit_base_patch32_clip_448', 'vit_base_patch32_clip_quickgelu_224', 'vit_base_patch32_plus_256', 'vit_base_patch32_siglip_256', 'vit_base_patch32_siglip_gap_256', 'vit_base_r26_s32_224', 'vit_base_r50_s16_224', 'vit_base_r50_s16_384', 'vit_base_resnet26d_224', 'vit_base_resnet50d_224', 'vit_betwixt_patch16_gap_256', 'vit_betwixt_patch16_reg1_gap_256', 'vit_betwixt_patch16_reg4_gap_256', 'vit_betwixt_patch16_reg4_gap_384', 'vit_betwixt_patch16_rope_reg4_gap_256', 'vit_betwixt_patch32_clip_224', 'vit_giant_patch14_224', 'vit_giant_patch14_clip_224', 'vit_giant_patch14_dinov2', 'vit_giant_patch14_reg4_dinov2', 'vit_giant_patch16_gap_224', 'vit_giantopt_patch16_siglip_256', 'vit_giantopt_patch16_siglip_384', 'vit_giantopt_patch16_siglip_gap_256', 'vit_giantopt_patch16_siglip_gap_384', 'vit_gigantic_patch14_224', 'vit_gigantic_patch14_clip_224', 'vit_gigantic_patch14_clip_quickgelu_224', 'vit_huge_patch14_224', 'vit_huge_patch14_clip_224', 'vit_huge_patch14_clip_336', 'vit_huge_patch14_clip_378', 'vit_huge_patch14_clip_quickgelu_224', 'vit_huge_patch14_clip_quickgelu_378', 'vit_huge_patch14_gap_224', 'vit_huge_patch14_xp_224', 'vit_huge_patch16_gap_448', 'vit_intern300m_patch14_448', 'vit_large_patch14_224', 'vit_large_patch14_clip_224', 'vit_large_patch14_clip_336', 'vit_large_patch14_clip_quickgelu_224', 'vit_large_patch14_clip_quickgelu_336', 'vit_large_patch14_dinov2', 'vit_large_patch14_reg4_dinov2', 'vit_large_patch14_xp_224', 'vit_large_patch16_224', 'vit_large_patch16_384', 'vit_large_patch16_siglip_256', 'vit_large_patch16_siglip_384', 'vit_large_patch16_siglip_512', 'vit_large_patch16_siglip_gap_256', 'vit_large_patch16_siglip_gap_384', 'vit_large_patch16_siglip_gap_512', 'vit_large_patch32_224', 'vit_large_patch32_384', 'vit_large_r50_s32_224', 'vit_large_r50_s32_384', 'vit_little_patch16_reg1_gap_256', 'vit_little_patch16_reg4_gap_256', 'vit_medium_patch16_clip_224', 'vit_medium_patch16_gap_240', 'vit_medium_patch16_gap_256', 'vit_medium_patch16_gap_384', 'vit_medium_patch16_reg1_gap_256', 'vit_medium_patch16_reg4_gap_256', 'vit_medium_patch16_rope_reg1_gap_256', 'vit_medium_patch32_clip_224', 'vit_mediumd_patch16_reg4_gap_256', 'vit_mediumd_patch16_reg4_gap_384', 'vit_mediumd_patch16_rope_reg1_gap_256', 'vit_pwee_patch16_reg1_gap_256', 'vit_relpos_base_patch16_224', 'vit_relpos_base_patch16_cls_224', 'vit_relpos_base_patch16_clsgap_224', 'vit_relpos_base_patch16_plus_240', 'vit_relpos_base_patch16_rpn_224', 'vit_relpos_base_patch32_plus_rpn_256', 'vit_relpos_medium_patch16_224', 'vit_relpos_medium_patch16_cls_224', 'vit_relpos_medium_patch16_rpn_224', 'vit_relpos_small_patch16_224', 'vit_relpos_small_patch16_rpn_224', 'vit_small_patch8_224', 'vit_small_patch14_dinov2', 'vit_small_patch14_reg4_dinov2', 'vit_small_patch16_18x2_224', 'vit_small_patch16_36x1_224', 'vit_small_patch16_224', 'vit_small_patch16_384', 'vit_small_patch32_224', 'vit_small_patch32_384', 'vit_small_r26_s32_224', 'vit_small_r26_s32_384', 'vit_small_resnet26d_224', 'vit_small_resnet50d_s16_224', 'vit_so150m2_patch16_reg1_gap_256', 'vit_so150m2_patch16_reg1_gap_384', 'vit_so150m2_patch16_reg1_gap_448', 'vit_so150m_patch16_reg4_gap_256', 'vit_so150m_patch16_reg4_gap_384', 'vit_so150m_patch16_reg4_map_256', 'vit_so400m_patch14_siglip_224', 'vit_so400m_patch14_siglip_378', 'vit_so400m_patch14_siglip_384', 'vit_so400m_patch14_siglip_gap_224', 'vit_so400m_patch14_siglip_gap_378', 'vit_so400m_patch14_siglip_gap_384', 'vit_so400m_patch14_siglip_gap_448', 'vit_so400m_patch14_siglip_gap_896', 'vit_so400m_patch16_siglip_256', 'vit_so400m_patch16_siglip_384', 'vit_so400m_patch16_siglip_512', 'vit_so400m_patch16_siglip_gap_256', 'vit_so400m_patch16_siglip_gap_384', 'vit_so400m_patch16_siglip_gap_512', 'vit_srelpos_medium_patch16_224', 'vit_srelpos_small_patch16_224', 'vit_tiny_patch16_224', 'vit_tiny_patch16_384', 'vit_tiny_r_s16_p8_224', 'vit_tiny_r_s16_p8_384', 'vit_wee_patch16_reg1_gap_256', 'vit_xsmall_patch16_clip_224', 'vitamin_base_224', 'vitamin_large2_224', 'vitamin_large2_256', 'vitamin_large2_336', 'vitamin_large2_384', 'vitamin_large_224', 'vitamin_large_256', 'vitamin_large_336', 'vitamin_large_384', 'vitamin_small_224', 'vitamin_xlarge_256', 'vitamin_xlarge_336', 'vitamin_xlarge_384']\n"
     ]
    }
   ],
   "source": [
    "import timm\n",
    "print(timm.list_models('*vit*'))"
   ]
  },
  {
   "cell_type": "code",
   "execution_count": 11,
   "metadata": {},
   "outputs": [
    {
     "data": {
      "text/plain": [
       "True"
      ]
     },
     "execution_count": 11,
     "metadata": {},
     "output_type": "execute_result"
    }
   ],
   "source": [
    "'vit_large_patch16_224' in timm.list_models('*vit*')"
   ]
  },
  {
   "cell_type": "code",
   "execution_count": 1,
   "metadata": {},
   "outputs": [
    {
     "name": "stdout",
     "output_type": "stream",
     "text": [
      "PyTorch version: 2.7.0+cu118\n",
      "CUDA available: True\n",
      "CUDA version used by PyTorch: 11.8\n"
     ]
    }
   ],
   "source": [
    "import torch\n",
    "print(f\"PyTorch version: {torch.__version__}\")\n",
    "print(f\"CUDA available: {torch.cuda.is_available()}\")\n",
    "print(f\"CUDA version used by PyTorch: {torch.version.cuda}\")"
   ]
  },
  {
   "cell_type": "code",
   "execution_count": 3,
   "metadata": {},
   "outputs": [
    {
     "name": "stdout",
     "output_type": "stream",
     "text": [
      "Using GPU: Quadro T1000\n",
      "Found 4997 training images in 4 classes\n",
      "Found 1057 validation images\n",
      "Found 673 test images\n",
      "Classes (4): ['Cataract', 'DR', 'Glaucoma', 'Normal']\n",
      "Creating model: vit_large_patch16_224\n",
      "Loading weights from: ./pretrained_vit/RETFound_cfp_weights.pth\n",
      "Key head.weight not found in checkpoint, will use initialized head\n",
      "Key head.bias not found in checkpoint, will use initialized head\n",
      "Weight loading message: _IncompatibleKeys(missing_keys=['fc_norm.weight', 'fc_norm.bias', 'head.weight', 'head.bias'], unexpected_keys=['mask_token', 'decoder_pos_embed', 'decoder_embed.weight', 'decoder_embed.bias', 'decoder_blocks.0.norm1.weight', 'decoder_blocks.0.norm1.bias', 'decoder_blocks.0.attn.qkv.weight', 'decoder_blocks.0.attn.qkv.bias', 'decoder_blocks.0.attn.proj.weight', 'decoder_blocks.0.attn.proj.bias', 'decoder_blocks.0.norm2.weight', 'decoder_blocks.0.norm2.bias', 'decoder_blocks.0.mlp.fc1.weight', 'decoder_blocks.0.mlp.fc1.bias', 'decoder_blocks.0.mlp.fc2.weight', 'decoder_blocks.0.mlp.fc2.bias', 'decoder_blocks.1.norm1.weight', 'decoder_blocks.1.norm1.bias', 'decoder_blocks.1.attn.qkv.weight', 'decoder_blocks.1.attn.qkv.bias', 'decoder_blocks.1.attn.proj.weight', 'decoder_blocks.1.attn.proj.bias', 'decoder_blocks.1.norm2.weight', 'decoder_blocks.1.norm2.bias', 'decoder_blocks.1.mlp.fc1.weight', 'decoder_blocks.1.mlp.fc1.bias', 'decoder_blocks.1.mlp.fc2.weight', 'decoder_blocks.1.mlp.fc2.bias', 'decoder_blocks.2.norm1.weight', 'decoder_blocks.2.norm1.bias', 'decoder_blocks.2.attn.qkv.weight', 'decoder_blocks.2.attn.qkv.bias', 'decoder_blocks.2.attn.proj.weight', 'decoder_blocks.2.attn.proj.bias', 'decoder_blocks.2.norm2.weight', 'decoder_blocks.2.norm2.bias', 'decoder_blocks.2.mlp.fc1.weight', 'decoder_blocks.2.mlp.fc1.bias', 'decoder_blocks.2.mlp.fc2.weight', 'decoder_blocks.2.mlp.fc2.bias', 'decoder_blocks.3.norm1.weight', 'decoder_blocks.3.norm1.bias', 'decoder_blocks.3.attn.qkv.weight', 'decoder_blocks.3.attn.qkv.bias', 'decoder_blocks.3.attn.proj.weight', 'decoder_blocks.3.attn.proj.bias', 'decoder_blocks.3.norm2.weight', 'decoder_blocks.3.norm2.bias', 'decoder_blocks.3.mlp.fc1.weight', 'decoder_blocks.3.mlp.fc1.bias', 'decoder_blocks.3.mlp.fc2.weight', 'decoder_blocks.3.mlp.fc2.bias', 'decoder_blocks.4.norm1.weight', 'decoder_blocks.4.norm1.bias', 'decoder_blocks.4.attn.qkv.weight', 'decoder_blocks.4.attn.qkv.bias', 'decoder_blocks.4.attn.proj.weight', 'decoder_blocks.4.attn.proj.bias', 'decoder_blocks.4.norm2.weight', 'decoder_blocks.4.norm2.bias', 'decoder_blocks.4.mlp.fc1.weight', 'decoder_blocks.4.mlp.fc1.bias', 'decoder_blocks.4.mlp.fc2.weight', 'decoder_blocks.4.mlp.fc2.bias', 'decoder_blocks.5.norm1.weight', 'decoder_blocks.5.norm1.bias', 'decoder_blocks.5.attn.qkv.weight', 'decoder_blocks.5.attn.qkv.bias', 'decoder_blocks.5.attn.proj.weight', 'decoder_blocks.5.attn.proj.bias', 'decoder_blocks.5.norm2.weight', 'decoder_blocks.5.norm2.bias', 'decoder_blocks.5.mlp.fc1.weight', 'decoder_blocks.5.mlp.fc1.bias', 'decoder_blocks.5.mlp.fc2.weight', 'decoder_blocks.5.mlp.fc2.bias', 'decoder_blocks.6.norm1.weight', 'decoder_blocks.6.norm1.bias', 'decoder_blocks.6.attn.qkv.weight', 'decoder_blocks.6.attn.qkv.bias', 'decoder_blocks.6.attn.proj.weight', 'decoder_blocks.6.attn.proj.bias', 'decoder_blocks.6.norm2.weight', 'decoder_blocks.6.norm2.bias', 'decoder_blocks.6.mlp.fc1.weight', 'decoder_blocks.6.mlp.fc1.bias', 'decoder_blocks.6.mlp.fc2.weight', 'decoder_blocks.6.mlp.fc2.bias', 'decoder_blocks.7.norm1.weight', 'decoder_blocks.7.norm1.bias', 'decoder_blocks.7.attn.qkv.weight', 'decoder_blocks.7.attn.qkv.bias', 'decoder_blocks.7.attn.proj.weight', 'decoder_blocks.7.attn.proj.bias', 'decoder_blocks.7.norm2.weight', 'decoder_blocks.7.norm2.bias', 'decoder_blocks.7.mlp.fc1.weight', 'decoder_blocks.7.mlp.fc1.bias', 'decoder_blocks.7.mlp.fc2.weight', 'decoder_blocks.7.mlp.fc2.bias', 'decoder_norm.weight', 'decoder_norm.bias', 'decoder_pred.weight', 'decoder_pred.bias', 'norm.weight', 'norm.bias'])\n",
      "Initializing classification head weights\n",
      "Effective batch size: 8\n",
      "Scaled learning rate (LR): 3.13e-06\n",
      "Base learning rate (BLR): 1.00e-04\n",
      "Minimum learning rate: 1.00e-06\n",
      "Layer decay: 0.65\n",
      "Starting training for 50 epochs...\n",
      "Epoch 1 | Set LR (group 0): 0.000000e+00\n"
     ]
    },
    {
     "name": "stderr",
     "output_type": "stream",
     "text": [
      "d:\\Columbia Notes\\Spring 2025\\Deep Learning on the Edge\\Final_Project\\finetune_vit.py:53: FutureWarning: `torch.cuda.amp.GradScaler(args...)` is deprecated. Please use `torch.amp.GradScaler('cuda', args...)` instead.\n",
      "  scaler = torch.cuda.amp.GradScaler(enabled=True)\n",
      "\n",
      "Epoch 1/50 [Train]:   0%|          | 0/624 [00:00<?, ?it/s]d:\\Columbia Notes\\Spring 2025\\Deep Learning on the Edge\\Final_Project\\trainer.py:111: FutureWarning: `torch.cuda.amp.autocast(args...)` is deprecated. Please use `torch.amp.autocast('cuda', args...)` instead.\n",
      "  with torch.cuda.amp.autocast(enabled=True):\n",
      "\n",
      "Epoch 1/50 [Train]:   0%|          | 0/624 [00:09<?, ?it/s]\n",
      "Traceback (most recent call last):\n",
      "  File \"d:\\Columbia Notes\\Spring 2025\\Deep Learning on the Edge\\Final_Project\\finetune_vit.py\", line 79, in <module>\n",
      "    main()\n",
      "  File \"d:\\Columbia Notes\\Spring 2025\\Deep Learning on the Edge\\Final_Project\\finetune_vit.py\", line 56, in main\n",
      "    best_state = train_and_evaluate(\n",
      "                 ^^^^^^^^^^^^^^^^^^^\n",
      "  File \"d:\\Columbia Notes\\Spring 2025\\Deep Learning on the Edge\\Final_Project\\trainer.py\", line 23, in train_and_evaluate\n",
      "    train_loss = train_one_epoch(\n",
      "                 ^^^^^^^^^^^^^^^^\n",
      "  File \"d:\\Columbia Notes\\Spring 2025\\Deep Learning on the Edge\\Final_Project\\trainer.py\", line 113, in train_one_epoch\n",
      "    loss = criterion(outputs, labels)\n",
      "           ^^^^^^^^^^^^^^^^^^^^^^^^^^\n",
      "  File \"d:\\Columbia Notes\\Spring 2025\\Deep Learning on the Edge\\Final_Project\\venv\\Lib\\site-packages\\torch\\nn\\modules\\module.py\", line 1751, in _wrapped_call_impl\n",
      "    return self._call_impl(*args, **kwargs)\n",
      "           ^^^^^^^^^^^^^^^^^^^^^^^^^^^^^^^^\n",
      "  File \"d:\\Columbia Notes\\Spring 2025\\Deep Learning on the Edge\\Final_Project\\venv\\Lib\\site-packages\\torch\\nn\\modules\\module.py\", line 1762, in _call_impl\n",
      "    return forward_call(*args, **kwargs)\n",
      "           ^^^^^^^^^^^^^^^^^^^^^^^^^^^^^\n",
      "  File \"d:\\Columbia Notes\\Spring 2025\\Deep Learning on the Edge\\Final_Project\\venv\\Lib\\site-packages\\torch\\nn\\modules\\loss.py\", line 1297, in forward\n",
      "    return F.cross_entropy(\n",
      "           ^^^^^^^^^^^^^^^^\n",
      "  File \"d:\\Columbia Notes\\Spring 2025\\Deep Learning on the Edge\\Final_Project\\venv\\Lib\\site-packages\\torch\\nn\\functional.py\", line 3494, in cross_entropy\n",
      "    return torch._C._nn.cross_entropy_loss(\n",
      "           ^^^^^^^^^^^^^^^^^^^^^^^^^^^^^^^^\n",
      "RuntimeError: Expected all tensors to be on the same device, but found at least two devices, cuda:0 and cpu! (when checking argument for argument weight in method wrapper_CUDA_nll_loss_forward)\n"
     ]
    }
   ],
   "source": [
    "!python finetune_vit.py \\\n",
    "    --model_name vit_large_patch16_224 \\\n",
    "    --data_path ./data/ \\\n",
    "    --checkpoint_path ./pretrained_vit/RETFound_cfp_weights.pth \\\n",
    "    --output_dir ./finetune_output \\\n",
    "    --batch_size 8 \\\n",
    "    --epochs 50 \\\n",
    "    --blr 1e-4 \\\n",
    "    --layer_decay 0.65 \\\n",
    "    --warmup_epochs 5 \\\n",
    "    --eval_test"
   ]
  },
  {
   "cell_type": "code",
   "execution_count": null,
   "metadata": {},
   "outputs": [],
   "source": []
  }
 ],
 "metadata": {
  "kernelspec": {
   "display_name": "venv",
   "language": "python",
   "name": "python3"
  },
  "language_info": {
   "codemirror_mode": {
    "name": "ipython",
    "version": 3
   },
   "file_extension": ".py",
   "mimetype": "text/x-python",
   "name": "python",
   "nbconvert_exporter": "python",
   "pygments_lexer": "ipython3",
   "version": "3.11.6"
  }
 },
 "nbformat": 4,
 "nbformat_minor": 2
}
