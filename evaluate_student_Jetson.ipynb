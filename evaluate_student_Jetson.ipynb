{
 "cells": [
  {
   "cell_type": "code",
   "execution_count": 2,
   "metadata": {
    "vscode": {
     "languageId": "plaintext"
    }
   },
   "outputs": [
    {
     "name": "stdout",
     "output_type": "stream",
     "text": [
      "Evaluating on device: cuda\n"
     ]
    }
   ],
   "source": [
    "import os\n",
    "import time\n",
    "import torch\n",
    "import numpy as np\n",
    "from torch.utils.data import DataLoader\n",
    "from sklearn.metrics import classification_report, confusion_matrix\n",
    "import matplotlib.pyplot as plt\n",
    "import seaborn as sns\n",
    "\n",
    "# Import model and data utilities\n",
    "from new_version.models import StudentCNN\n",
    "from new_version.data_utils import RetinalFundusDataset, get_data_transforms, class_names\n",
    "\n",
    "# Set device \n",
    "device = torch.device(\"cuda\" if torch.cuda.is_available() else \"cpu\")\n",
    "print(f\"Evaluating on device: {device}\")"
   ]
  },
  {
   "cell_type": "code",
   "execution_count": 3,
   "metadata": {
    "vscode": {
     "languageId": "plaintext"
    }
   },
   "outputs": [],
   "source": [
    "# Paths\n",
    "BEST_MODEL_PATH = \"new_version/models/best_student_model.pth\"\n",
    "QUANT_MODEL_PATH = \"new_version/models/optimized/quantized_student_model.pth\"\n",
    "DATA_DIR = \"data\"\n",
    "\n",
    "# Parameters \n",
    "BATCH_SIZE = 32\n",
    "IMG_SIZE = 224\n",
    "NUM_WORKERS = 1  \n",
    "NUM_CLASSES = 4\n",
    "\n",
    "# Ensure model file exists\n",
    "if not os.path.isfile(BEST_MODEL_PATH):\n",
    "    raise FileNotFoundError(f\"Model file not found: {BEST_MODEL_PATH}\")\n",
    "if not os.path.isfile(QUANT_MODEL_PATH):\n",
    "    raise FileNotFoundError(f\"Quantized model file not found: {QUANT_MODEL_PATH}\")\n",
    "\n",
    "# Ensure test data exists\n",
    "test_dir = os.path.join(DATA_DIR, \"test\")\n",
    "if not os.path.isdir(test_dir):\n",
    "    raise FileNotFoundError(f\"Test data directory not found: {test_dir}\")"
   ]
  },
  {
   "cell_type": "code",
   "execution_count": 4,
   "metadata": {
    "vscode": {
     "languageId": "plaintext"
    }
   },
   "outputs": [
    {
     "name": "stdout",
     "output_type": "stream",
     "text": [
      "Loaded 673 test images.\n"
     ]
    }
   ],
   "source": [
    "# Data transforms\n",
    "transforms_dict = get_data_transforms(IMG_SIZE)\n",
    "test_dataset = RetinalFundusDataset(root_dir=DATA_DIR, split=\"test\", transform=transforms_dict[\"test\"])\n",
    "test_loader = DataLoader(test_dataset, batch_size=BATCH_SIZE, shuffle=False, num_workers=NUM_WORKERS, pin_memory=True)\n",
    "\n",
    "# Ensure test set is not empty\n",
    "if len(test_dataset) == 0:\n",
    "    raise ValueError(\"Test dataset is empty!\")\n",
    "print(f\"Loaded {len(test_dataset)} test images.\")"
   ]
  },
  {
   "cell_type": "code",
   "execution_count": 5,
   "metadata": {
    "vscode": {
     "languageId": "plaintext"
    }
   },
   "outputs": [],
   "source": [
    "# Function to evaluate model accuracy and measure throughput\n",
    "def evaluate_model(model, loader, device, class_names):\n",
    "    \"\"\"\n",
    "    Evaluate a model on the test loader, returning accuracy, throughput, targets, and predictions.\n",
    "    \"\"\"\n",
    "    model.eval()\n",
    "    correct = 0\n",
    "    total = 0\n",
    "    all_targets = []\n",
    "    all_preds = []\n",
    "    start_time = time.time()\n",
    "    with torch.no_grad():\n",
    "        for images, labels in loader:\n",
    "            if not isinstance(images, torch.Tensor) or not isinstance(labels, torch.Tensor):\n",
    "                raise TypeError(\"Images and labels must be torch.Tensor\")\n",
    "            images, labels = images.to(device), labels.to(device)\n",
    "            outputs = model(images)\n",
    "            _, predicted = torch.max(outputs, 1)\n",
    "            total += labels.size(0)\n",
    "            correct += (predicted == labels).sum().item()\n",
    "            all_targets.extend(labels.cpu().numpy())\n",
    "            all_preds.extend(predicted.cpu().numpy())\n",
    "    end_time = time.time()\n",
    "    elapsed = end_time - start_time\n",
    "    throughput = total / elapsed if elapsed > 0 else 0\n",
    "    accuracy = 100.0 * correct / total if total > 0 else 0.0\n",
    "    return accuracy, throughput, all_targets, all_preds"
   ]
  },
  {
   "cell_type": "code",
   "execution_count": 6,
   "metadata": {
    "vscode": {
     "languageId": "plaintext"
    }
   },
   "outputs": [
    {
     "name": "stdout",
     "output_type": "stream",
     "text": [
      "Best Student Model - Accuracy: 88.56%, Throughput: 2.19 images/sec\n",
      "              precision    recall  f1-score   support\n",
      "\n",
      "    Cataract       0.95      0.86      0.90       104\n",
      "          DR       0.97      0.92      0.94       167\n",
      "    Glaucoma       0.84      0.69      0.76       131\n",
      "      Normal       0.84      0.97      0.90       271\n",
      "\n",
      "    accuracy                           0.89       673\n",
      "   macro avg       0.90      0.86      0.88       673\n",
      "weighted avg       0.89      0.89      0.88       673\n",
      "\n"
     ]
    },
    {
     "data": {
      "image/png": "[encoded data removed]",
      "text/plain": [
       "<matplotlib.figure.Figure at 0x7f3d5d2470>"
      ]
     },
     "metadata": {
      "needs_background": "light"
     },
     "output_type": "display_data"
    }
   ],
   "source": [
    "# Evaluate best student CNN model\n",
    "model_best = StudentCNN(num_classes=NUM_CLASSES, model_name=\"mobilenet_v2\", pretrained=False)\n",
    "model_best.load_state_dict(torch.load(BEST_MODEL_PATH, map_location=device))\n",
    "model_best = model_best.to(device)\n",
    "acc_best, throughput_best, targets_best, preds_best = evaluate_model(model_best, test_loader, device, class_names)\n",
    "print(f\"Best Student Model - Accuracy: {acc_best:.2f}%, Throughput: {throughput_best:.2f} images/sec\")\n",
    "print(classification_report(targets_best, preds_best, target_names=class_names))\n",
    "cm_best = confusion_matrix(targets_best, preds_best)\n",
    "plt.figure(figsize=(8,6))\n",
    "sns.heatmap(cm_best, annot=True, fmt=\"d\", cmap=\"Blues\", xticklabels=class_names, yticklabels=class_names)\n",
    "plt.title(\"Best Student Model - Test Confusion Matrix\")\n",
    "plt.xlabel(\"Predicted\")\n",
    "plt.ylabel(\"True\")\n",
    "plt.show()"
   ]
  },
  {
   "cell_type": "code",
   "execution_count": 7,
   "metadata": {
    "vscode": {
     "languageId": "plaintext"
    }
   },
   "outputs": [
    {
     "name": "stdout",
     "output_type": "stream",
     "text": [
      "Quantized Student Model - Accuracy: 88.56%, Throughput: 5.41 images/sec\n",
      "              precision    recall  f1-score   support\n",
      "\n",
      "    Cataract       0.95      0.86      0.90       104\n",
      "          DR       0.97      0.92      0.94       167\n",
      "    Glaucoma       0.84      0.69      0.76       131\n",
      "      Normal       0.84      0.97      0.90       271\n",
      "\n",
      "    accuracy                           0.89       673\n",
      "   macro avg       0.90      0.86      0.88       673\n",
      "weighted avg       0.89      0.89      0.88       673\n",
      "\n"
     ]
    },
    {
     "data": {
      "image/png": "[encoded data removed]",
      "text/plain": [
       "<matplotlib.figure.Figure at 0x7f3076bcc0>"
      ]
     },
     "metadata": {
      "needs_background": "light"
     },
     "output_type": "display_data"
    }
   ],
   "source": [
    "# Evaluate quantized version of student CNN model\n",
    "model_quant = StudentCNN(num_classes=NUM_CLASSES, model_name=\"mobilenet_v2\", pretrained=False)\n",
    "model_quant.load_state_dict(torch.load(QUANT_MODEL_PATH, map_location=device))\n",
    "model_quant = model_quant.to(device)\n",
    "acc_quant, throughput_quant, targets_quant, preds_quant = evaluate_model(model_quant, test_loader, device, class_names)\n",
    "print(f\"Quantized Student Model - Accuracy: {acc_quant:.2f}%, Throughput: {throughput_quant:.2f} images/sec\")\n",
    "print(classification_report(targets_quant, preds_quant, target_names=class_names))\n",
    "cm_quant = confusion_matrix(targets_quant, preds_quant)\n",
    "plt.figure(figsize=(8,6))\n",
    "sns.heatmap(cm_quant, annot=True, fmt=\"d\", cmap=\"Greens\", xticklabels=class_names, yticklabels=class_names)\n",
    "plt.title(\"Quantized Student Model - Test Confusion Matrix\")\n",
    "plt.xlabel(\"Predicted\")\n",
    "plt.ylabel(\"True\")\n",
    "plt.show()"
   ]
  },
  {
   "cell_type": "code",
   "execution_count": 8,
   "metadata": {
    "vscode": {
     "languageId": "plaintext"
    }
   },
   "outputs": [
    {
     "name": "stdout",
     "output_type": "stream",
     "text": [
      "--- Comparison Summary ---\n",
      "Best Student Model:    Accuracy = 88.56%, Throughput = 2.19 images/sec\n",
      "Quantized Student Model: Accuracy = 88.56%, Throughput = 5.41 images/sec\n"
     ]
    }
   ],
   "source": [
    "# Comparison Summary\n",
    "print(\"--- Comparison Summary ---\")\n",
    "print(f\"Best Student Model:    Accuracy = {acc_best:.2f}%, Throughput = {throughput_best:.2f} images/sec\")\n",
    "print(f\"Quantized Student Model: Accuracy = {acc_quant:.2f}%, Throughput = {throughput_quant:.2f} images/sec\")"
   ]
  },
  {
   "cell_type": "code",
   "execution_count": null,
   "metadata": {},
   "outputs": [],
   "source": []
  }
 ],
 "metadata": {
  "kernelspec": {
   "display_name": "Python 3",
   "language": "python",
   "name": "python3"
  },
  "language_info": {
   "codemirror_mode": {
    "name": "ipython",
    "version": 3
   },
   "file_extension": ".py",
   "mimetype": "text/x-python",
   "name": "python",
   "nbconvert_exporter": "python",
   "pygments_lexer": "ipython3",
   "version": "3.6.9"
  }
 },
 "nbformat": 4,
 "nbformat_minor": 4
}
